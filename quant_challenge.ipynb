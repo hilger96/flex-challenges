{
 "cells": [
  {
   "cell_type": "markdown",
   "metadata": {},
   "source": [
    "#### import necessary packages:"
   ]
  },
  {
   "cell_type": "code",
   "execution_count": 7,
   "metadata": {},
   "outputs": [],
   "source": [
    "import numpy as np\n",
    "import sqlite3\n",
    "import datetime"
   ]
  },
  {
   "cell_type": "markdown",
   "metadata": {},
   "source": [
    "### Task 1:\n",
    "#### Construct function, which computes total buy and sell volumes."
   ]
  },
  {
   "cell_type": "code",
   "execution_count": 2,
   "metadata": {},
   "outputs": [
    {
     "name": "stdout",
     "output_type": "stream",
     "text": [
      "('trade_1', 5, 20.0, 'buy', 'strategy_1')\n",
      "('trade_2', 17, 10.0, 'sell', 'strategy_1')\n",
      "('trade_3', 15, 8.0, 'buy', 'strategy_1')\n",
      "('trade_4', 13, 35.0, 'sell', 'strategy_2')\n",
      "('trade_5', 23, 11.0, 'sell', 'strategy_2')\n",
      "('trade_6', 8, 20.0, 'buy', 'strategy_2')\n"
     ]
    }
   ],
   "source": [
    "# First take a look at the table.\n",
    "\n",
    "conn = sqlite3.connect('trades.sqlite')\n",
    "cur = conn.cursor()\n",
    "\n",
    "rows = cur.execute(\"SELECT * FROM epex_12_20_12_13\").fetchall()\n",
    "\n",
    "for row in rows:\n",
    "    print(row)"
   ]
  },
  {
   "cell_type": "code",
   "execution_count": 3,
   "metadata": {},
   "outputs": [],
   "source": [
    "# I am not sure if it is convention to keep them, but i dropped *args and **kwargs in my functions, \n",
    "# since i dont use them in my approach.\n",
    "\n",
    "def compute_total_buy_volume() -> float:    \n",
    "    \"\"\"\n",
    "    Return buy volumes.\n",
    "    \"\"\"\n",
    "    \n",
    "    # establish connection with database and define cursor\n",
    "    conn = sqlite3.connect('trades.sqlite')\n",
    "    cur = conn.cursor()\n",
    "    \n",
    "    # collect quantities from all rows with side='buy'\n",
    "    buy_quantities = cur.execute(\"SELECT quantity FROM epex_12_20_12_13 WHERE side = 'buy'\").fetchall()\n",
    "\n",
    "    total_buy_volume = np.sum(buy_quantities)\n",
    "\n",
    "    return(total_buy_volume)\n",
    "\n",
    "\n",
    "def compute_total_sell_volume() -> float:\n",
    "    \"\"\"\n",
    "    Return sell volumes.\n",
    "    \"\"\"\n",
    "\n",
    "    # establish connection with database and define cursor\n",
    "    conn = sqlite3.connect('trades.sqlite') \n",
    "    cur = conn.cursor()\n",
    "\n",
    "    # collect quantities from all rows with side='sell'\n",
    "    sell_quantities = cur.execute(\"SELECT quantity FROM epex_12_20_12_13 WHERE side = 'sell'\").fetchall()\n",
    "\n",
    "    total_sell_volume = np.sum(sell_quantities)\n",
    "\n",
    "    return(total_sell_volume)"
   ]
  },
  {
   "cell_type": "code",
   "execution_count": 4,
   "metadata": {},
   "outputs": [
    {
     "name": "stdout",
     "output_type": "stream",
     "text": [
      "Total buy volume: 28 MWh\n",
      "Total sell volume: 53 MWh\n"
     ]
    }
   ],
   "source": [
    "print('Total buy volume:', compute_total_buy_volume(), 'MWh')\n",
    "print('Total sell volume:', compute_total_sell_volume(), 'MWh')"
   ]
  },
  {
   "cell_type": "markdown",
   "metadata": {},
   "source": [
    "### Task 2:\n",
    "#### Write a function that computes the PnL of each strategy."
   ]
  },
  {
   "cell_type": "code",
   "execution_count": 19,
   "metadata": {},
   "outputs": [],
   "source": [
    "def compute_pnl(strategy_id: str) -> float:\n",
    "    \"\"\"\n",
    "    Compute PnL of strategy.\n",
    "    \"\"\"\n",
    "\n",
    "    # establish connection with database and define cursor\n",
    "    conn = sqlite3.connect('trades.sqlite')\n",
    "    cur = conn.cursor()\n",
    "\n",
    "    # collect quantity and price from all buys and sells with strategy='strategy_id'\n",
    "    buys = cur.execute(\"SELECT quantity, price FROM epex_12_20_12_13 WHERE side = 'buy' AND strategy = '{}'\".format(strategy_id)).fetchall()\n",
    "    sells = cur.execute(\"SELECT quantity, price FROM epex_12_20_12_13 WHERE side = 'sell' AND strategy = '{}'\".format(strategy_id)).fetchall()\n",
    "    \n",
    "    # calculate PnL as sum of profits of all sells minus sum of costs of all buys\n",
    "    pnl = - np.sum([np.prod(buys[i]) for i in range(len(buys))]) + np.sum([np.prod(sells[i]) for i in range(len(sells))])\n",
    "\n",
    "    return(pnl)"
   ]
  },
  {
   "cell_type": "code",
   "execution_count": 20,
   "metadata": {},
   "outputs": [
    {
     "name": "stdout",
     "output_type": "stream",
     "text": [
      "strategy 1 PnL: -50.0 EUR\n",
      "strategy 2 PnL: 548.0 EUR\n"
     ]
    }
   ],
   "source": [
    "print('strategy 1 PnL:', compute_pnl(strategy_id='strategy_1'), 'EUR')\n",
    "print('strategy 2 PnL:', compute_pnl(strategy_id='strategy_2'), 'EUR')"
   ]
  },
  {
   "cell_type": "markdown",
   "metadata": {},
   "source": [
    "The above tool gives the PnL, which might or might not be insightful depending on usecase. It is important to note that The volume of buys and sells for each strategy is not equal. For strategy 1 we buy 20MWh and sell 17MWh and for strategy 2 we buy 8 MWh and sell 36 MWh. Therefore a good/bad PnL does not necessarily imply a good/bad trading strategy.\n",
    "\n",
    "One interesting indicator to further evaluate strategies could be something like the average buy price and the average sell price of each strategy. It is implemented below."
   ]
  },
  {
   "cell_type": "code",
   "execution_count": 5,
   "metadata": {},
   "outputs": [],
   "source": [
    "def compute_avg_buysell(strategy_id: str) -> dict:\n",
    "    \"\"\"\n",
    "    Compute average buy and sell prices of strategy.\n",
    "    \"\"\"   \n",
    "\n",
    "    # establish connection with database and define cursor\n",
    "    conn = sqlite3.connect('trades.sqlite')\n",
    "    cur = conn.cursor()\n",
    "\n",
    "    # collect quantity and price from all buys and sells with strategy='strategy_id'\n",
    "    buys = cur.execute(\"SELECT quantity, price FROM epex_12_20_12_13 WHERE side = 'buy' AND strategy = '{}'\".format(strategy_id)).fetchall()\n",
    "    sells = cur.execute(\"SELECT quantity, price FROM epex_12_20_12_13 WHERE side = 'sell' AND strategy = '{}'\".format(strategy_id)).fetchall()\n",
    "    \n",
    "    # calculate total cost for buys and total volume of buys\n",
    "    total_cost_for_buys = np.sum([np.prod(buys[i]) for i in range(len(buys))])\n",
    "    total_buy_volume = np.sum([buys[i][0] for i in range(len(buys))])\n",
    "\n",
    "    avg_buy_price = total_cost_for_buys / total_buy_volume\n",
    "\n",
    "    # calculate total cost for sells and total volume of sells\n",
    "    total_profit_from_sells = np.sum([np.prod(sells[i]) for i in range(len(sells))])\n",
    "    total_sell_volume = np.sum([sells[i][0] for i in range(len(sells))])\n",
    "\n",
    "    avg_sell_price = total_profit_from_sells / total_sell_volume\n",
    "\n",
    "    return {\n",
    "        'strategy' : strategy_id,\n",
    "        'avg buy' : avg_buy_price, \n",
    "        'avg sell' : avg_sell_price\n",
    "        }"
   ]
  },
  {
   "cell_type": "code",
   "execution_count": 6,
   "metadata": {},
   "outputs": [
    {
     "name": "stdout",
     "output_type": "stream",
     "text": [
      "{'strategy': 'strategy_1', 'avg buy': 11.0, 'avg sell': 10.0}\n",
      "{'strategy': 'strategy_2', 'avg buy': 20.0, 'avg sell': 19.666666666666668}\n"
     ]
    }
   ],
   "source": [
    "print(compute_avg_buysell(strategy_id='strategy_1'))\n",
    "print(compute_avg_buysell(strategy_id='strategy_2'))"
   ]
  },
  {
   "cell_type": "markdown",
   "metadata": {},
   "source": [
    "### Task 3:\n",
    "#### Create web app entry point according to given API definition:"
   ]
  },
  {
   "cell_type": "code",
   "execution_count": 8,
   "metadata": {},
   "outputs": [],
   "source": [
    "from flask import Flask, jsonify\n",
    "\n",
    "app = Flask(__name__)\n",
    "\n",
    "# Create API endpoints\n",
    "@app.route('/v1/pnl/<strategy_id>', methods=['GET'])\n",
    "def compute_pnl(strategy_id: str):\n",
    "    \n",
    "    conn = sqlite3.connect('trades.sqlite')\n",
    "    cur = conn.cursor()\n",
    "    \n",
    "    # get quantity and price of all buys/sells where strategy='strategy_id'\n",
    "    buys = cur.execute(\"SELECT quantity, price FROM 'epex_12_20_12_13' WHERE side = 'buy' AND strategy = '{}'\".format(strategy_id)).fetchall()\n",
    "    sells = cur.execute(\"SELECT quantity, price FROM 'epex_12_20_12_13' WHERE side = 'sell' AND strategy = '{}'\".format( strategy_id)).fetchall()\n",
    "    \n",
    "    # calculate pnl\n",
    "    pnl = - np.sum([np.prod(buys[i]) for i in range(len(buys))]) + np.sum([np.prod(sells[i]) for i in range(len(sells))])\n",
    "\n",
    "    # get the present time as string according to definition\n",
    "    tick = datetime.datetime.now().strftime(\"%Y-%m-%dT%H:%M:%SZ\")\n",
    "\n",
    "    # construct response dict\n",
    "    response_data = {\n",
    "        \"strategy\": strategy_id,\n",
    "        \"value\": pnl,\n",
    "        \"unit\": \"euro\",\n",
    "        \"capture_time\": tick\n",
    "    }\n",
    "\n",
    "    # transform dictionary into json response according to definition.\n",
    "    return jsonify(response_data), 200"
   ]
  },
  {
   "cell_type": "markdown",
   "metadata": {},
   "source": [
    "This was my first time setting up an API so i am not sure if I did exactly what was asked in the task.\n",
    "\n",
    "However, if the above code is run as a Python script on a test server, it gives the responses posted below, which should be correct. \n",
    "\n",
    "The code regarding the web entry is also uploaded seperately as application.py in the repository."
   ]
  },
  {
   "cell_type": "markdown",
   "metadata": {},
   "source": [
    "<img src=\"strat_1.png\" width=\"800\">"
   ]
  },
  {
   "cell_type": "markdown",
   "metadata": {},
   "source": [
    "<img src=\"strat_2.png\" width=\"800\">"
   ]
  },
  {
   "cell_type": "markdown",
   "metadata": {},
   "source": [
    "<img src=\"strat_3.png\" width=\"800\">"
   ]
  }
 ],
 "metadata": {
  "kernelspec": {
   "display_name": "env_tf",
   "language": "python",
   "name": "python3"
  },
  "language_info": {
   "codemirror_mode": {
    "name": "ipython",
    "version": 3
   },
   "file_extension": ".py",
   "mimetype": "text/x-python",
   "name": "python",
   "nbconvert_exporter": "python",
   "pygments_lexer": "ipython3",
   "version": "3.9.13"
  },
  "orig_nbformat": 4
 },
 "nbformat": 4,
 "nbformat_minor": 2
}
