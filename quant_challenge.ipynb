{
 "cells": [
  {
   "cell_type": "markdown",
   "metadata": {},
   "source": [
    "#### import necessary packages:"
   ]
  },
  {
   "cell_type": "code",
   "execution_count": 1,
   "metadata": {},
   "outputs": [],
   "source": [
    "import numpy as np\n",
    "import sqlite3"
   ]
  },
  {
   "cell_type": "markdown",
   "metadata": {},
   "source": [
    "### Task 1:\n",
    "#### Construct function, which computes total buy and sell volumes."
   ]
  },
  {
   "cell_type": "code",
   "execution_count": 209,
   "metadata": {},
   "outputs": [
    {
     "name": "stdout",
     "output_type": "stream",
     "text": [
      "('trade_1', 5, 20.0, 'buy', 'strategy_1')\n",
      "('trade_2', 17, 10.0, 'sell', 'strategy_1')\n",
      "('trade_3', 15, 8.0, 'buy', 'strategy_1')\n",
      "('trade_4', 13, 35.0, 'sell', 'strategy_2')\n",
      "('trade_5', 23, 11.0, 'sell', 'strategy_2')\n",
      "('trade_6', 8, 20.0, 'buy', 'strategy_2')\n"
     ]
    }
   ],
   "source": [
    "# First take a look at the table.\n",
    "\n",
    "conn = sqlite3.connect('trades.sqlite')\n",
    "cur = conn.cursor()\n",
    "\n",
    "rows = cur.execute(\"SELECT * FROM epex_12_20_12_13\").fetchall()\n",
    "\n",
    "for row in rows:\n",
    "    print(row)"
   ]
  },
  {
   "cell_type": "code",
   "execution_count": 197,
   "metadata": {},
   "outputs": [],
   "source": [
    "# construct functions to calculate buy and sell volume from the table.\n",
    "\n",
    "# you could potentially also put database name and table name into the arguments of the function to make it more flexible,\n",
    "# but the way I understand the given task, the functions are supposed to look like this.\n",
    "\n",
    "def compute_total_buy_volume(*args, **kwargs):\n",
    "    conn = sqlite3.connect('trades.sqlite')\n",
    "    cur = conn.cursor()\n",
    "    buy_quantities = cur.execute(\"SELECT quantity FROM epex_12_20_12_13 WHERE side = 'buy'\").fetchall()\n",
    "\n",
    "\n",
    "    return(np.sum(buy_quantities))\n",
    "\n",
    "def compute_total_sell_volume(*args, **kwargs):\n",
    "    conn = sqlite3.connect('trades.sqlite')\n",
    "    cur = conn.cursor()\n",
    "    sell_quantities = cur.execute(\"SELECT quantity FROM epex_12_20_12_13 WHERE side = 'sell'\").fetchall()\n",
    "\n",
    "\n",
    "    return(np.sum(sell_quantities)) "
   ]
  },
  {
   "cell_type": "code",
   "execution_count": 204,
   "metadata": {},
   "outputs": [
    {
     "name": "stdout",
     "output_type": "stream",
     "text": [
      "Total buy volume: 28 MWh\n",
      "Total sell volume: 53 MWh\n"
     ]
    }
   ],
   "source": [
    "print('Total buy volume:', compute_total_buy_volume(), 'MWh')\n",
    "print('Total sell volume:', compute_total_sell_volume(), 'MWh')"
   ]
  },
  {
   "cell_type": "code",
   "execution_count": 170,
   "metadata": {},
   "outputs": [],
   "source": [
    "# #alternative \n",
    "\n",
    "# def compute_total_buy_volume(db_name, table_name, *args, **kwargs):\n",
    "#     conn = sqlite3.connect(db_name)\n",
    "#     cur = conn.cursor()\n",
    "#     buy_quantities = cur.execute(\"SELECT quantity FROM {} WHERE side = 'buy'\".format(table_name)).fetchall()\n",
    "\n",
    "\n",
    "#     return(np.sum(buy_quantities))\n",
    "\n",
    "\n",
    "# compute_total_buy_volume(db_name='trades.sqlite', table_name='epex_12_20_12_13')"
   ]
  },
  {
   "cell_type": "markdown",
   "metadata": {},
   "source": [
    "### Task 2:\n",
    "#### Write a function that computes the PnL of each strategy."
   ]
  },
  {
   "cell_type": "code",
   "execution_count": 181,
   "metadata": {},
   "outputs": [],
   "source": [
    "def compute_pnl(strategy_id: str, *args, **kwargs):\n",
    "    \n",
    "    conn = sqlite3.connect('trades.sqlite')\n",
    "    cur = conn.cursor()\n",
    "    buys = cur.execute(\"SELECT quantity, price FROM epex_12_20_12_13 WHERE side = 'buy' AND strategy = '{}'\".format(strategy_id)).fetchall()\n",
    "    sells = cur.execute(\"SELECT quantity, price FROM epex_12_20_12_13 WHERE side = 'sell' AND strategy = '{}'\".format(strategy_id)).fetchall()\n",
    "    \n",
    "    pnl = - np.sum([np.prod(buys[i]) for i in range(len(buys))]) + np.sum([np.prod(sells[i]) for i in range(len(sells))])\n",
    "\n",
    "\n",
    "    return(pnl)"
   ]
  },
  {
   "cell_type": "code",
   "execution_count": 195,
   "metadata": {},
   "outputs": [
    {
     "name": "stdout",
     "output_type": "stream",
     "text": [
      "strategy 1 PnL: -50.0 EUR\n",
      "strategy 2 PnL: 548.0 EUR\n"
     ]
    }
   ],
   "source": [
    "print('strategy 1 PnL:', compute_pnl(strategy_id='strategy_1'), 'EUR')\n",
    "print('strategy 2 PnL:', compute_pnl(strategy_id='strategy_2'), 'EUR')"
   ]
  },
  {
   "cell_type": "markdown",
   "metadata": {},
   "source": [
    "The above tool gives the PnL, which might or might not be insightful depending on usecase. It is important to note that The volume of buys and sells for each strategy is not equal. For strategy 1 we buy 20MWh and sell 17MWh and for strategy 2 we buy 8 MWh and sell 36 MWh. Therefore a good/bad PnL does not necessarily imply a good/bad trading strategy.\n",
    "\n",
    "One interesting indicator to further evaluate strategies could be something like the average buy price and the average sell price of each strategy. It is implemented below."
   ]
  },
  {
   "cell_type": "code",
   "execution_count": 184,
   "metadata": {},
   "outputs": [],
   "source": [
    "def compute_avg_buysell(strategy_id: str, *args, **kwargs):\n",
    "    \n",
    "    conn = sqlite3.connect('trades.sqlite')\n",
    "    cur = conn.cursor()\n",
    "    buys = cur.execute(\"SELECT quantity, price FROM epex_12_20_12_13 WHERE side = 'buy' AND strategy = '{}'\".format(strategy_id)).fetchall()\n",
    "    sells = cur.execute(\"SELECT quantity, price FROM epex_12_20_12_13 WHERE side = 'sell' AND strategy = '{}'\".format(strategy_id)).fetchall()\n",
    "    \n",
    "    total_cost_for_buys = np.sum([np.prod(buys[i]) for i in range(len(buys))])\n",
    "    total_buy_volume = np.sum([buys[i][0] for i in range(len(buys))])\n",
    "\n",
    "    avg_buy_price = total_cost_for_buys / total_buy_volume\n",
    "\n",
    "    total_profit_from_sells = np.sum([np.prod(sells[i]) for i in range(len(sells))])\n",
    "    total_sell_volume = np.sum([sells[i][0] for i in range(len(sells))])\n",
    "\n",
    "    avg_sell_price = total_profit_from_sells / total_sell_volume\n",
    "\n",
    "    #return(avg_buy_price, avg_sell_price)\n",
    "    return {\n",
    "        'strategy' : strategy_id,\n",
    "        'avg buy' : avg_buy_price, \n",
    "        'avg sell' : avg_sell_price\n",
    "        }"
   ]
  },
  {
   "cell_type": "code",
   "execution_count": 211,
   "metadata": {},
   "outputs": [
    {
     "name": "stdout",
     "output_type": "stream",
     "text": [
      "{'strategy': 'strategy_1', 'avg buy': 11.0, 'avg sell': 10.0}\n",
      "{'strategy': 'strategy_2', 'avg buy': 20.0, 'avg sell': 19.666666666666668}\n"
     ]
    }
   ],
   "source": [
    "print(compute_avg_buysell(strategy_id='strategy_1', db_name='trades.sqlite', table_name='epex_12_20_12_13'))\n",
    "print(compute_avg_buysell(strategy_id='strategy_2', db_name='trades.sqlite', table_name='epex_12_20_12_13'))"
   ]
  },
  {
   "cell_type": "markdown",
   "metadata": {},
   "source": [
    "### Task 3:\n",
    "#### Create web app entry point according to given API definition:"
   ]
  },
  {
   "cell_type": "code",
   "execution_count": null,
   "metadata": {},
   "outputs": [],
   "source": [
    "from flask import Flask, jsonify"
   ]
  },
  {
   "cell_type": "code",
   "execution_count": null,
   "metadata": {},
   "outputs": [],
   "source": [
    "app = Flask(__name__)\n",
    "\n",
    "@app.route('/v1/pnl/<strategy_id>', methods=['GET'])\n",
    "def compute_pnl(strategy_id: str):\n",
    "    \n",
    "    conn = sqlite3.connect('trades.sqlite')\n",
    "    cur = conn.cursor()\n",
    "    \n",
    "    buys = cur.execute(\"SELECT quantity, price FROM 'epex_12_20_12_13' WHERE side = 'buy' AND strategy = '{}'\".format(strategy_id)).fetchall()\n",
    "    sells = cur.execute(\"SELECT quantity, price FROM 'epex_12_20_12_13' WHERE side = 'sell' AND strategy = '{}'\".format( strategy_id)).fetchall()\n",
    "    \n",
    "    pnl = - np.sum([np.prod(buys[i]) for i in range(len(buys))]) + np.sum([np.prod(sells[i]) for i in range(len(sells))])\n",
    "\n",
    "    tick = datetime.datetime.now().strftime(\"%Y-%m-%dT%H:%M:%SZ\")\n",
    "\n",
    "    response_data = {\n",
    "        \"strategy\": strategy_id,\n",
    "        \"value\": pnl,\n",
    "        \"unit\": \"euro\",\n",
    "        \"capture_time\": tick\n",
    "    }\n",
    "\n",
    "    return jsonify(response_data), 200"
   ]
  },
  {
   "cell_type": "markdown",
   "metadata": {},
   "source": [
    "the above code on a test server gives the following responses:"
   ]
  },
  {
   "cell_type": "markdown",
   "metadata": {},
   "source": [
    "<img src=\"strat_1.png\" width=\"800\">"
   ]
  },
  {
   "cell_type": "markdown",
   "metadata": {},
   "source": [
    "<img src=\"strat_2.png\" width=\"800\">"
   ]
  },
  {
   "cell_type": "markdown",
   "metadata": {},
   "source": [
    "<img src=\"strat_3.png\" width=\"800\">"
   ]
  }
 ],
 "metadata": {
  "kernelspec": {
   "display_name": "env_tf",
   "language": "python",
   "name": "python3"
  },
  "language_info": {
   "codemirror_mode": {
    "name": "ipython",
    "version": 3
   },
   "file_extension": ".py",
   "mimetype": "text/x-python",
   "name": "python",
   "nbconvert_exporter": "python",
   "pygments_lexer": "ipython3",
   "version": "3.9.13"
  },
  "orig_nbformat": 4
 },
 "nbformat": 4,
 "nbformat_minor": 2
}
